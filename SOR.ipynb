{
  "nbformat": 4,
  "nbformat_minor": 5,
  "metadata": {
    "kernelspec": {
      "display_name": "Python 3 (ipykernel)",
      "language": "python",
      "name": "python3"
    },
    "language_info": {
      "codemirror_mode": {
        "name": "ipython",
        "version": 3
      },
      "file_extension": ".py",
      "mimetype": "text/x-python",
      "name": "python",
      "nbconvert_exporter": "python",
      "pygments_lexer": "ipython3",
      "version": "3.8.10"
    },
    "colab": {
      "name": "SOR.ipynb",
      "provenance": [],
      "include_colab_link": true
    }
  },
  "cells": [
    {
      "cell_type": "markdown",
      "metadata": {
        "id": "view-in-github",
        "colab_type": "text"
      },
      "source": [
        "<a href=\"https://colab.research.google.com/github/vuddameri/CE5310/blob/main/SOR.ipynb\" target=\"_parent\"><img src=\"https://colab.research.google.com/assets/colab-badge.svg\" alt=\"Open In Colab\"/></a>"
      ]
    },
    {
      "cell_type": "markdown",
      "metadata": {
        "id": "04d9b1c6"
      },
      "source": [
        "<h1><center><font color='blue'> Successive Over Relaxation </font></center></h1>"
      ],
      "id": "04d9b1c6"
    },
    {
      "cell_type": "markdown",
      "metadata": {
        "id": "8f59646e"
      },
      "source": [
        "Successive Over Relaxation (SOR) is a variant of Gauss-Siedel Method that can be used to improve the convergence. The central idea is to take the previous estimate and the present estimate from the Gauss-Siedel estimate to obtain a new estimate.  The previous estimate and the present estimate are weighted using an relaxation parameter $\\omega$.  The relaxation parameter defines the extent to which the new estimate is based on the previous estimate and how much is based on the present estimate.  "
      ],
      "id": "8f59646e"
    },
    {
      "cell_type": "markdown",
      "metadata": {
        "id": "d7a84d7e"
      },
      "source": [
        "To understand SOR let us consider a simple system of equations:"
      ],
      "id": "d7a84d7e"
    },
    {
      "cell_type": "markdown",
      "metadata": {
        "id": "08869cb5"
      },
      "source": [
        "$$\n",
        "\\begin{align}\n",
        "& a_1 x + b_1 y = c &\\\\\n",
        "& a_2 x + b_2 y = d &\n",
        "\\end{align}\n",
        "$$"
      ],
      "id": "08869cb5"
    },
    {
      "cell_type": "markdown",
      "metadata": {
        "id": "90ec4a50"
      },
      "source": [
        "As with other iterative methods the system of equations are rearranged as follows:"
      ],
      "id": "90ec4a50"
    },
    {
      "cell_type": "markdown",
      "metadata": {
        "id": "abd8ce77"
      },
      "source": [
        "$$ \\begin{align}\n",
        "& x = \\frac{c - b_1y}{a_1} &\\\\\n",
        "& y = \\frac{d - a_2x}{b_2} &\n",
        "\\end{align}$$"
      ],
      "id": "abd8ce77"
    },
    {
      "cell_type": "markdown",
      "metadata": {
        "id": "887fa917"
      },
      "source": [
        "The SOR Equations are then written as follows: Here $(x^o,y^o)$ are estimates from the previous iteration while $(x^1,y^1)$ denote the estimates at the current time-step.  "
      ],
      "id": "887fa917"
    },
    {
      "cell_type": "markdown",
      "metadata": {
        "id": "8eda93ae"
      },
      "source": [
        "$$ \\begin{align}\n",
        "& x^1  = (1-\\omega) x^o + \\omega \\frac{c - b_1y^o}{a_1} &\\\\\n",
        "& y^1 = (1-\\omega) y^o + \\omega \\frac{d - a_2x^1}{b_2} &\n",
        "\\end{align}$$"
      ],
      "id": "8eda93ae"
    },
    {
      "cell_type": "markdown",
      "metadata": {
        "id": "7f0ae51c"
      },
      "source": [
        "If the value of $\\omega$ is chosen between $0 < \\omega < 1$  Then the method is called <font color = 'blue'> Successive Under Relaxation </font>  If $\\omega$ is chosen between $1 < \\omega < 2$  Then the method is called <font color = 'blue'> Successive Over Relaxation </font>.  Successive Under-relaxation is less common but sometimes can help turn a non-convergent problem to a convergent one.  <font color='red'> when $\\omega$ is 1 then SOR method reduces to Gauss Siedel Method </font>"
      ],
      "id": "7f0ae51c"
    },
    {
      "cell_type": "markdown",
      "metadata": {
        "id": "742e1186"
      },
      "source": [
        "Iterations are carried out until the residual (i.e., the |RHS-LHS| of the original system of equations) is below certain tolerance or the maximum number of iterations are reached or values between successive iterations do not change much (within an acceptable tolerance).  <font color='blue'> Some experimentation is necessary to obtain a suitable value for the relaxation parameter </font> "
      ],
      "id": "742e1186"
    },
    {
      "cell_type": "markdown",
      "metadata": {
        "id": "a703ead3"
      },
      "source": [
        "<h2><font color='red'> Illustrative Example </font></h2>"
      ],
      "id": "a703ead3"
    },
    {
      "cell_type": "markdown",
      "metadata": {
        "id": "be00ccc0"
      },
      "source": [
        "Solve the following system of equations using Gauss-Siedel Method using Python."
      ],
      "id": "be00ccc0"
    },
    {
      "cell_type": "markdown",
      "metadata": {
        "id": "3866f711"
      },
      "source": [
        "\\begin{align}\n",
        "& 2x_1 -x_2 + x_3 = -12 &\\\\\n",
        "& x_1 + 2x_2 - x_3 = 6 &\\\\\n",
        "& x_1 -x_2 + 2x_3 = -3 &\n",
        "\\end{align}"
      ],
      "id": "3866f711"
    },
    {
      "cell_type": "markdown",
      "metadata": {
        "id": "281510c9"
      },
      "source": [
        "<h2> <font color='red'> Python Code </font> </h2>"
      ],
      "id": "281510c9"
    },
    {
      "cell_type": "code",
      "metadata": {
        "id": "bb658540"
      },
      "source": [
        "# Function for Solving System of Equations \n",
        "# using Successive Over-relaxation\n",
        "# Venki Uddameri\n",
        "\n",
        "# import libraries\n",
        "import numpy as np\n",
        "\n",
        "# define function\n",
        "# M is the coeff matrix; b is RHS matrix, x is the initial guesses\n",
        "# tol is acceptable tolerance and Nmax = max. iterations\n",
        "\n",
        "def sor(M,b,x,w,tol,Nmax):\n",
        "    N = len(M)  # length of the coefficient matrix\n",
        "    C = np.zeros((N,N)) # initialize iteration coeff matrix\n",
        "    d = np.zeros(N) # initiation iteration RHS matrix\n",
        "    # Create iteration matrix\n",
        "    for i in np.arange(0,N,1):\n",
        "        pvt = M[i,i]  # identify the pivot element\n",
        "        C[i,:] = -M[i,:]/pvt # divide coefficient by pivot\n",
        "        C[i,i] = 0 # element the pivot element\n",
        "        d[i] = b[i]/pvt # divide RHS by Pivot element\n",
        "        \n",
        "    # Perform iterations\n",
        "    res = 100 # create a high res so there is at least 1 iteration\n",
        "    iter = 0 #initialize iteration\n",
        "    xold = x # initialize xold\n",
        "    # iterate when residual > tol or iter <= max iterations\n",
        "    while(res > tol and iter <= Nmax):\n",
        "        for i in np.arange(0,N,1):  # loop through all unknowns\n",
        "            x[i] = (1-w)*xold[i] + w*(d[i] + sum(C[i,:]*x)) # estimate new values\n",
        "        res = np.sum(np.abs(np.matmul(M,x) - b)) # compute res\n",
        "        iter = iter + 1 # update residual\n",
        "        xold = x\n",
        "    return(x)"
      ],
      "id": "bb658540",
      "execution_count": 1,
      "outputs": []
    },
    {
      "cell_type": "code",
      "metadata": {
        "id": "cb0b76e2",
        "outputId": "839815ec-c5ec-4183-a591-7f31935dfc41",
        "colab": {
          "base_uri": "https://localhost:8080/"
        }
      },
      "source": [
        "# Solve Example\n",
        "Nmax = 100  # Max. Number of iteration\n",
        "tol = 1e-03 # Absolute tolerance\n",
        "M = [[2, -1, 1], [1, 2, -1],[1, -1, 2]]\n",
        "M = np.array(M) # Coefficient Matrix\n",
        "b = [-1,6,-3] \n",
        "b = np.array(b) # RHS matrix\n",
        "y = [0,0,0] \n",
        "y = np.array(y) # Initial Guesses\n",
        "w = 1.25\n",
        "X = sor(M,b,y,w,tol,Nmax) # Apply the function\n",
        "print(X)"
      ],
      "id": "cb0b76e2",
      "execution_count": 2,
      "outputs": [
        {
          "output_type": "stream",
          "name": "stdout",
          "text": [
            "[ 1  2 -1]\n"
          ]
        }
      ]
    }
  ]
}