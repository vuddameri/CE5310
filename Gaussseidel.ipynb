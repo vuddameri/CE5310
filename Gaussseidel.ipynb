{
  "nbformat": 4,
  "nbformat_minor": 5,
  "metadata": {
    "kernelspec": {
      "display_name": "Python 3 (ipykernel)",
      "language": "python",
      "name": "python3"
    },
    "language_info": {
      "codemirror_mode": {
        "name": "ipython",
        "version": 3
      },
      "file_extension": ".py",
      "mimetype": "text/x-python",
      "name": "python",
      "nbconvert_exporter": "python",
      "pygments_lexer": "ipython3",
      "version": "3.8.10"
    },
    "colab": {
      "name": "Gaussseidel.ipynb",
      "provenance": [],
      "include_colab_link": true
    }
  },
  "cells": [
    {
      "cell_type": "markdown",
      "metadata": {
        "id": "view-in-github",
        "colab_type": "text"
      },
      "source": [
        "<a href=\"https://colab.research.google.com/github/vuddameri/CE5310/blob/main/Gaussseidel.ipynb\" target=\"_parent\"><img src=\"https://colab.research.google.com/assets/colab-badge.svg\" alt=\"Open In Colab\"/></a>"
      ]
    },
    {
      "cell_type": "markdown",
      "metadata": {
        "id": "263a07b0"
      },
      "source": [
        "<h1> <center> <font color='blue'> Gauss-Siedel Iteration </font> </center> </h1>"
      ],
      "id": "263a07b0"
    },
    {
      "cell_type": "markdown",
      "metadata": {
        "id": "60daf672"
      },
      "source": [
        "Gauss-Siedel method is an iterative procedure to solve system of linear equations.  A major advantage of this method it uses each equation to solve for one unknown.  Also, the updated estimate is used in subsequent calculations.  Therefore, there is no need to store previous and current values seperately."
      ],
      "id": "60daf672"
    },
    {
      "cell_type": "markdown",
      "metadata": {
        "id": "915368fe"
      },
      "source": [
        "The method comprises of two steps - 1) The creation of iteration matrix and 2) Iteration to update initial guesses to a final solution.  "
      ],
      "id": "915368fe"
    },
    {
      "cell_type": "markdown",
      "metadata": {
        "id": "a23a401e"
      },
      "source": [
        "<h2><font color='red'> Creation of Iteration Matrix </font></h2>"
      ],
      "id": "a23a401e"
    },
    {
      "cell_type": "markdown",
      "metadata": {
        "id": "b7b62e0b"
      },
      "source": [
        "The creation of iteration matrix essentially entails transforming the equation such that the solution of the equation results in an unknown.  For example, consider the system of equations shown below:"
      ],
      "id": "b7b62e0b"
    },
    {
      "cell_type": "markdown",
      "metadata": {
        "id": "13f6c77e"
      },
      "source": [
        "$$\n",
        "\\begin{align}\n",
        "& a_1 x + b_1 y = c &\\\\\n",
        "& a_2 x + b_2 y = d &\n",
        "\\end{align}\n",
        "$$"
      ],
      "id": "13f6c77e"
    },
    {
      "cell_type": "markdown",
      "metadata": {
        "id": "36c7b28a"
      },
      "source": [
        "The equations are transformed as follows:"
      ],
      "id": "36c7b28a"
    },
    {
      "cell_type": "markdown",
      "metadata": {
        "id": "263888f6"
      },
      "source": [
        "$$ \\begin{align}\n",
        "& x = \\frac{c - b_1y}{a_1} &\\\\\n",
        "& y = \\frac{d - a_2x}{b_2} &\n",
        "\\end{align}$$"
      ],
      "id": "263888f6"
    },
    {
      "cell_type": "markdown",
      "metadata": {
        "id": "8a2b1087"
      },
      "source": [
        "<font color='blue'> Note the RHS is divided by the diagonal element of the coefficient matrix.  The off diagonal elements are also divided by the diagonal element and the sum is subtracted from the RHS matrix.  Note that this step needs to be performed only once. </font>"
      ],
      "id": "8a2b1087"
    },
    {
      "cell_type": "markdown",
      "metadata": {
        "id": "96b4d45b"
      },
      "source": [
        "<h2> <font color='red'> Iteration to Obtain Unknowns </font></h2>"
      ],
      "id": "96b4d45b"
    },
    {
      "cell_type": "markdown",
      "metadata": {
        "id": "cf6e0a12"
      },
      "source": [
        "Once the equations are transformed then the procedure starts with initial guess for x, y $${(x^o,y^o)} $$ and updates them.  The updated values are used when available instead of the previous values.  For example the updated values $$x^1 and y^1$$ are obtaiend as follows:"
      ],
      "id": "cf6e0a12"
    },
    {
      "cell_type": "markdown",
      "metadata": {
        "id": "ae4f7963"
      },
      "source": [
        "$$ \\begin{align}\n",
        "& x^1  = \\frac{c - b_1y^o}{a_1} &\\\\\n",
        "& y^1 = \\frac{d - a_2x^1}{b_2} &\n",
        "\\end{align}$$"
      ],
      "id": "ae4f7963"
    },
    {
      "cell_type": "markdown",
      "metadata": {
        "id": "337dc8de"
      },
      "source": [
        "Notice the previous value of y $(y^o)$ is used for obtaining $ x^1 $ while the updated value $(x^1)$ is used to obtain $y^1$."
      ],
      "id": "337dc8de"
    },
    {
      "cell_type": "markdown",
      "metadata": {
        "id": "5e9d127d"
      },
      "source": [
        "<font color='blue'> Iterations are carried out until the residual (i.e., the |RHS-LHS| of the original system of equations) is below certain tolerance or the maximum number of iterations are reached or values between successive iterations do not change much (within an acceptable tolerance) </font>  "
      ],
      "id": "5e9d127d"
    },
    {
      "cell_type": "markdown",
      "metadata": {
        "id": "58c15250"
      },
      "source": [
        "<h2><font color='red'> Illustrative Example </font></h2>"
      ],
      "id": "58c15250"
    },
    {
      "cell_type": "markdown",
      "metadata": {
        "id": "cbe1cee9"
      },
      "source": [
        "Solve the following system of equations using Gauss-Siedel Method using Python."
      ],
      "id": "cbe1cee9"
    },
    {
      "cell_type": "markdown",
      "metadata": {
        "id": "62c43ddb"
      },
      "source": [
        "\\begin{align}\n",
        "& 2x_1 -x_2 + x_3 = -12 &\\\\\n",
        "& x_1 + 2x_2 - x_3 = 6 &\\\\\n",
        "& x_1 -x_2 + 2x_3 = -3 &\n",
        "\\end{align}"
      ],
      "id": "62c43ddb"
    },
    {
      "cell_type": "code",
      "metadata": {
        "id": "f1462f8a"
      },
      "source": [
        "# Function for Solving System of Equations using Gauss-Siedel\n",
        "# Venki Uddameri\n",
        "\n",
        "# import libraries\n",
        "import numpy as np\n",
        "\n",
        "# define function\n",
        "# M is the coeff matrix; b is RHS matrix, x is the initial guesses\n",
        "# tol is acceptable tolerance and Nmax = max. iterations\n",
        "\n",
        "def gaussiedel(M,b,x,tol,Nmax):\n",
        "    N = len(M)  # length of the coefficient matrix\n",
        "    C = np.zeros((N,N)) # initialize iteration coeff matrix\n",
        "    d = np.zeros(N) # initiation iteration RHS matrix\n",
        "    # Create iteration matrix\n",
        "    for i in np.arange(0,N,1):\n",
        "        pvt = M[i,i]  # identify the pivot element\n",
        "        C[i,:] = -M[i,:]/pvt # divide coefficient by pivot\n",
        "        C[i,i] = 0 # element the pivot element\n",
        "        d[i] = b[i]/pvt # divide RHS by Pivot element\n",
        "        \n",
        "    # Perform iterations\n",
        "    res = 100 # create a high res so there is at least 1 iteration\n",
        "    iter = 0 #initialize iteration\n",
        "    # iterate when residual > tol or iter <= max iterations\n",
        "    while(res > tol and iter <= Nmax):\n",
        "        for i in np.arange(0,N,1):  # loop through all unknowns\n",
        "            x[i] = d[i] + sum(C[i,:]*x) # estimate new values\n",
        "        res = np.sum(np.abs(np.matmul(M,x) - b)) # compute res\n",
        "        iter = iter + 1 # update residual\n",
        "    return(x)"
      ],
      "id": "f1462f8a",
      "execution_count": null,
      "outputs": []
    },
    {
      "cell_type": "markdown",
      "metadata": {
        "id": "650f9257"
      },
      "source": [
        "Apply the function to the problem"
      ],
      "id": "650f9257"
    },
    {
      "cell_type": "code",
      "metadata": {
        "id": "520d47a0",
        "outputId": "2f400ad0-d94f-4448-d733-44796959f9d0"
      },
      "source": [
        "# Solve Example\n",
        "Nmax = 100  # Max. Number of iteration\n",
        "tol = 1e-03 # Absolute tolerance\n",
        "M = [[2, -1, 1], [1, 2, -1],[1, -1, 2]]\n",
        "M = np.array(M) # Coefficient Matrix\n",
        "b = [-1,6,-3] \n",
        "b = np.array(b) # RHS matrix\n",
        "y = [0,0,0] \n",
        "y = np.array(y) # Initial Guesses\n",
        "X = gaussiedel(M,b,y,tol,Nmax) # Apply the function\n",
        "print(X)"
      ],
      "id": "520d47a0",
      "execution_count": null,
      "outputs": [
        {
          "name": "stdout",
          "output_type": "stream",
          "text": [
            "[ 1  2 -1]\n"
          ]
        }
      ]
    },
    {
      "cell_type": "code",
      "metadata": {
        "id": "942134fb"
      },
      "source": [
        ""
      ],
      "id": "942134fb",
      "execution_count": null,
      "outputs": []
    }
  ]
}